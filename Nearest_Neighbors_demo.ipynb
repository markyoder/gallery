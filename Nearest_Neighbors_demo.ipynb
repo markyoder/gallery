{
 "cells": [
  {
   "cell_type": "markdown",
   "metadata": {},
   "source": [
    "### A quick tutorial example for finding nearest-neighbors using sklearn\n"
   ]
  },
  {
   "cell_type": "code",
   "execution_count": 1,
   "metadata": {
    "collapsed": false
   },
   "outputs": [],
   "source": [
    "#\n",
    "%load_ext autoreload\n",
    "%autoreload 2\n",
    "%matplotlib inline"
   ]
  },
  {
   "cell_type": "code",
   "execution_count": 2,
   "metadata": {
    "collapsed": false
   },
   "outputs": [],
   "source": [
    "import datetime as dtm\n",
    "import matplotlib.dates as mpd\n",
    "import pytz\n",
    "tzutc = pytz.timezone('UTC')\n",
    "\n",
    "#import operator\n",
    "import math\n",
    "import random\n",
    "import numpy\n",
    "import scipy\n",
    "import scipy.optimize as spo\n",
    "from scipy import interpolate\n",
    "import itertools\n",
    "import sys\n",
    "#import scipy.optimize as spo\n",
    "import os\n",
    "import operator\n",
    "#from PIL import Image as ipp\n",
    "import multiprocessing as mpp\n",
    "#\n",
    "import matplotlib\n",
    "import matplotlib.pyplot as plt\n",
    "import matplotlib as mpl\n",
    "from mpl_toolkits.mplot3d import Axes3D\n",
    "import json\n",
    "import pickle\n",
    "#\n",
    "#from sklearn.neighbors import NearestNeighbors\n",
    "import sklearn\n",
    "import sklearn.neighbors\n",
    "#\n",
    "import geopy.distance\n",
    "#from geopy.distance import vincenty\n",
    "#from geopy.distance import great_circle\n",
    "#\n",
    "#import ANSStools as atp\n",
    "#from yodiipy import ANSStools as atp\n",
    "#\n",
    "import random\n",
    "import geopy\n",
    "\n",
    "\n"
   ]
  },
  {
   "cell_type": "markdown",
   "metadata": {},
   "source": [
    "### Really straight forward:\n",
    "- Create two data sets:\n",
    "  - A \"Background\" data set, XY_bg\n",
    "  - A \"Foreground\" data set, XY_fg\n",
    "  - Define the number of NN, n_NN\n",
    "- Find the n_NN nearest neighbors of each XY_fg point in the background set XY_bg.\n",
    "- Note the sklearn.NearestNeighbors.kneighbors() function return the indices of the XY_bg elements\n",
    "- Then, plot the elements:\n",
    "  - Each _fg and _bg element and the edges between the NN sets.\n"
   ]
  },
  {
   "cell_type": "code",
   "execution_count": 3,
   "metadata": {
    "collapsed": false
   },
   "outputs": [
    {
     "data": {
      "text/plain": [
       "(0.0, 1.0)"
      ]
     },
     "execution_count": 3,
     "metadata": {},
     "output_type": "execute_result"
    },
    {
     "data": {
      "image/png": "[encoded data removed]",
      "text/plain": [
       "<matplotlib.figure.Figure at 0x7fcf4d391dd8>"
      ]
     },
     "metadata": {},
     "output_type": "display_data"
    }
   ],
   "source": [
    "n1=50\n",
    "n2 = 5\n",
    "n_NN=4\n",
    "#\n",
    "XY_bg = numpy.array([numpy.random.uniform(size=n1), numpy.random.uniform(size=n1)]).T\n",
    "XY_fg = numpy.array([numpy.random.uniform(size=n2), numpy.random.uniform(size=n2)]).T\n",
    "#\n",
    "nbrs = sklearn.neighbors.NearestNeighbors(n_neighbors=n_NN, algorithm='ball_tree').fit(XY_bg)\n",
    "#\n",
    "distances, indices = nbrs.kneighbors(XY_fg)\n",
    "#\n",
    "plt.figure(figsize=(8,6))\n",
    "ax = plt.gca()\n",
    "#\n",
    "ax.plot(*XY_bg.T, marker='.', ls='', color='b', zorder=1)\n",
    "ax.plot(*XY_fg.T, marker='o', ls='', color = 'r', zorder=2)\n",
    "#\n",
    "# make a color index:\n",
    "color_idx = numpy.linspace(0, 1, len(XY_fg)+1)\n",
    "cmap = plt.cm.spectral\n",
    "#\n",
    "for k, (ixs, dists, (x_fg, y_fg)) in enumerate(zip(indices, distances, XY_fg)):\n",
    "    #\n",
    "    clr = cmap(color_idx[k])\n",
    "    #\n",
    "    for (x_bg, y_bg),r in zip(XY_bg[ixs], dists):\n",
    "        ax.plot([x_fg, x_bg], [y_fg, y_bg], ls='-', color=clr)\n",
    "#\n",
    "ax.set_ylim(0.,1.)\n",
    "ax.set_xlim(0.,1.)\n",
    "\n"
   ]
  },
  {
   "cell_type": "markdown",
   "metadata": {
    "collapsed": true
   },
   "source": [
    "#### Interpolating or snapping to a discrete distribution\n",
    "- We can also use NN to find NN elements in a 1D array\n",
    "- We can use numpy.searchsorted():\n",
    "  - https://docs.scipy.org/doc/numpy/reference/generated/numpy.searchsorted.html\n",
    "- The basic idea is to find the new value's position in a sequence and then infer its estimated value somehow (probably by a weighted average)."
   ]
  },
  {
   "cell_type": "code",
   "execution_count": 22,
   "metadata": {
    "collapsed": false
   },
   "outputs": [
    {
     "name": "stdout",
     "output_type": "stream",
     "text": [
      "js:  [[420 419 421 418]\n",
      " [619 620 618 621]\n",
      " [300 299 301 298]]\n",
      "dists:  [[ 0.0021021   0.0029029   0.00710711  0.00790791]\n",
      " [ 0.0019019   0.0031031   0.00690691  0.00810811]\n",
      " [ 0.0015015   0.0035035   0.00650651  0.00850851]]\n",
      "vals/rs: [ 2.1021021   2.0970971   2.10710711  2.09209209]/[ 0.0021021   0.0029029   0.00710711  0.00790791]/[ 0.87780072  0.87718758  0.8784108   0.87657136]\n",
      "Y_estimate: 0.8775424441303804\n",
      "average: 0.8775424441303804\n",
      "****\n",
      "vals/rs: [ 3.0980981   3.1031031   3.09309309  3.10810811]/[ 0.0019019   0.0031031   0.00690691  0.00810811]/[ 0.95486504  0.95509037  0.95463857  0.95531458]\n",
      "Y_estimate: 0.9549503937551209\n",
      "average: 0.9549503937551209\n",
      "****\n",
      "vals/rs: [ 1.5015015   1.4964965   1.50650651  1.49149149]/[ 0.0015015   0.0035035   0.00650651  0.00850851]/[ 0.77720462  0.77608673  0.77831692  0.77496324]\n",
      "Y_estimate: 0.7768680118273242\n",
      "average: 0.7768680118273242\n",
      "****\n"
     ]
    },
    {
     "data": {
      "image/png": "[encoded data removed]",
      "text/plain": [
       "<matplotlib.figure.Figure at 0x7fcf4893b2e8>"
      ]
     },
     "metadata": {},
     "output_type": "display_data"
    }
   ],
   "source": [
    "# using sklearn NN tools:\n",
    "#\n",
    "X = numpy.linspace(0., 5., 1000)\n",
    "X_fg = [[2.1], [3.1], [1.5]]\n",
    "Y = 1.-numpy.exp(-X)\n",
    "#\n",
    "plt.figure()\n",
    "ax = plt.gca()\n",
    "ax.plot(X,Y, '.-')\n",
    "#\n",
    "\n",
    "nbrs_1d = sklearn.neighbors.NearestNeighbors(n_neighbors=4, algorithm='ball_tree').fit(numpy.atleast_2d(X).T)\n",
    "dists, Js = nbrs_1d.kneighbors(X_fg)\n",
    "print('js: ', Js)\n",
    "print('dists: ', dists)\n",
    "\n",
    "for rs, js, x in zip(dists, Js, X_fg):\n",
    "    #\n",
    "    # and a couple of ways to compute a wieghted average:\n",
    "    print('vals/rs: {}/{}/{}'.format(X[js], rs, Y[js] ))\n",
    "    print('Y_estimate: {}'.format(numpy.dot(Y[js], 1./rs)/numpy.sum(1./rs)))\n",
    "    y_mean = numpy.average(Y[js], weights=1./rs)\n",
    "    print('average: {}'.format(y_mean))\n",
    "    #\n",
    "    ax.plot(x, y_mean, marker='*', ms=15, ls='')\n",
    "    print('****')"
   ]
  },
  {
   "cell_type": "code",
   "execution_count": 29,
   "metadata": {
    "collapsed": false
   },
   "outputs": [
    {
     "data": {
      "image/png": "[encoded data removed]",
      "text/plain": [
       "<matplotlib.figure.Figure at 0x7fcf485af2b0>"
      ]
     },
     "metadata": {},
     "output_type": "display_data"
    }
   ],
   "source": [
    "# We can also use numpy.searchsorted()\n",
    "# We have to be careful to handle end-points, but the main points are the same.\n",
    "# note: some of this code will probably be de-optimized, but it should be sufficient to illustrate the \n",
    "#    points of interest\n",
    "#\n",
    "class XY_data(list):\n",
    "    def __init__(self, XY, n_NN=2):\n",
    "        self.n_NN=n_NN\n",
    "        #\n",
    "        super(XY_data, self).__init__(sorted(XY, key = lambda rw:rw[0]))\n",
    "    #\n",
    "    @property\n",
    "    def X(self):\n",
    "        return numpy.array(self).T[0]\n",
    "    #\n",
    "    @property\n",
    "    def Y(self):\n",
    "        return numpy.array(self).T[1]\n",
    "    #\n",
    "    def get_y(self, x, n_NN=None):\n",
    "        n_NN = n_NN or self.n_NN\n",
    "        n_NN = n_NN or 2\n",
    "        #\n",
    "        # note: \"x\" can, for .searchsorted(), be array-like. here, i think we'll only handle the scalar case.\n",
    "        k = numpy.searchsorted(self.X, x)\n",
    "        ks = numpy.array([max(0, k-1), k])\n",
    "        ws = [1./r if r!=0 else 1. for r in [x-self.X[k] for k in ks]]\n",
    "        #\n",
    "        return numpy.average(numpy.array(self.Y)[ks], weights=ws)\n",
    "\n",
    "#\n",
    "my_XY = XY_data(numpy.array([X,Y]).T)\n",
    "X_fg = [[2.1], [3.1], [1.5]]\n",
    "\n",
    "plt.figure()\n",
    "ax = plt.gca()\n",
    "ax.plot(X,Y, '.-')\n",
    "#\n",
    "for x in X_fg:\n",
    "    y = my_XY.get_y(x)\n",
    "    #\n",
    "    ax.plot([x], [y], marker='o', ms=15, zorder=11)"
   ]
  },
  {
   "cell_type": "code",
   "execution_count": null,
   "metadata": {
    "collapsed": true
   },
   "outputs": [],
   "source": []
  }
 ],
 "metadata": {
  "kernelspec": {
   "display_name": "Python 3",
   "language": "python",
   "name": "python3"
  },
  "language_info": {
   "codemirror_mode": {
    "name": "ipython",
    "version": 3
   },
   "file_extension": ".py",
   "mimetype": "text/x-python",
   "name": "python",
   "nbconvert_exporter": "python",
   "pygments_lexer": "ipython3",
   "version": "3.6.0"
  }
 },
 "nbformat": 4,
 "nbformat_minor": 2
}
