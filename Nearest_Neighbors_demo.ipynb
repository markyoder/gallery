{
 "cells": [
  {
   "cell_type": "markdown",
   "metadata": {},
   "source": [
    "### A quick tutorial example for finding nearest-neighbors using sklearn\n"
   ]
  },
  {
   "cell_type": "code",
   "execution_count": 12,
   "metadata": {
    "collapsed": false
   },
   "outputs": [
    {
     "name": "stdout",
     "output_type": "stream",
     "text": [
      "The autoreload extension is already loaded. To reload it, use:\n",
      "  %reload_ext autoreload\n"
     ]
    }
   ],
   "source": [
    "#\n",
    "%load_ext autoreload\n",
    "%autoreload 2\n",
    "%matplotlib inline"
   ]
  },
  {
   "cell_type": "code",
   "execution_count": 15,
   "metadata": {
    "collapsed": false
   },
   "outputs": [],
   "source": [
    "import datetime as dtm\n",
    "import matplotlib.dates as mpd\n",
    "import pytz\n",
    "tzutc = pytz.timezone('UTC')\n",
    "\n",
    "#import operator\n",
    "import math\n",
    "import random\n",
    "import numpy\n",
    "import scipy\n",
    "import scipy.optimize as spo\n",
    "from scipy import interpolate\n",
    "import itertools\n",
    "import sys\n",
    "#import scipy.optimize as spo\n",
    "import os\n",
    "import operator\n",
    "#from PIL import Image as ipp\n",
    "import multiprocessing as mpp\n",
    "#\n",
    "import matplotlib\n",
    "import matplotlib.pyplot as plt\n",
    "import matplotlib as mpl\n",
    "from mpl_toolkits.mplot3d import Axes3D\n",
    "import json\n",
    "import pickle\n",
    "#\n",
    "#from sklearn.neighbors import NearestNeighbors\n",
    "import sklearn\n",
    "import sklearn.neighbors\n",
    "#\n",
    "import geopy.distance\n",
    "#from geopy.distance import vincenty\n",
    "#from geopy.distance import great_circle\n",
    "#\n",
    "#import ANSStools as atp\n",
    "#from yodiipy import ANSStools as atp\n",
    "#\n",
    "import random\n",
    "import geopy\n",
    "\n",
    "\n"
   ]
  },
  {
   "cell_type": "code",
   "execution_count": 30,
   "metadata": {
    "collapsed": false
   },
   "outputs": [
    {
     "data": {
      "text/plain": [
       "(0.0, 1.0)"
      ]
     },
     "execution_count": 30,
     "metadata": {},
     "output_type": "execute_result"
    },
    {
     "data": {
      "image/png": "[encoded data removed]",
      "text/plain": [
       "<matplotlib.figure.Figure at 0x7fc55c4e61d0>"
      ]
     },
     "metadata": {},
     "output_type": "display_data"
    }
   ],
   "source": [
    "n1=50\n",
    "n2 = 5\n",
    "n_NN=4\n",
    "\n",
    "XY_bg = numpy.array([numpy.random.uniform(size=n1), numpy.random.uniform(size=n1)]).T\n",
    "XY_fg = numpy.array([numpy.random.uniform(size=n2), numpy.random.uniform(size=n2)]).T\n",
    "#\n",
    "nbrs = sklearn.neighbors.NearestNeighbors(n_neighbors=n_NN, algorithm='ball_tree').fit(XY_bg)\n",
    "#\n",
    "distances, indices = nbrs.kneighbors(XY_fg)\n",
    "#\n",
    "plt.figure(figsize=(8,6))\n",
    "ax = plt.gca()\n",
    "#\n",
    "ax.plot(*XY_bg.T, marker='.', ls='', color='b', zorder=1)\n",
    "ax.plot(*XY_fg.T, marker='o', ls='', color = 'r', zorder=2)\n",
    "#\n",
    "# make a color index:\n",
    "color_idx = numpy.linspace(0, 1, len(XY_fg)+1)\n",
    "cmap = plt.cm.spectral\n",
    "#\n",
    "for k, (ixs, dists, (x_fg, y_fg)) in enumerate(zip(indices, distances, XY_fg)):\n",
    "    #\n",
    "    clr = cmap(color_idx[k])\n",
    "    #\n",
    "    for (x_bg, y_bg),r in zip(XY_bg[ixs], dists):\n",
    "        ax.plot([x_fg, x_bg], [y_fg, y_bg], ls='-', color=clr)\n",
    "#\n",
    "ax.set_ylim(0.,1.)\n",
    "ax.set_xlim(0.,1.)\n",
    "\n"
   ]
  },
  {
   "cell_type": "code",
   "execution_count": null,
   "metadata": {
    "collapsed": true
   },
   "outputs": [],
   "source": []
  },
  {
   "cell_type": "code",
   "execution_count": null,
   "metadata": {
    "collapsed": true
   },
   "outputs": [],
   "source": []
  },
  {
   "cell_type": "code",
   "execution_count": null,
   "metadata": {
    "collapsed": true
   },
   "outputs": [],
   "source": []
  }
 ],
 "metadata": {
  "kernelspec": {
   "display_name": "Python 3",
   "language": "python",
   "name": "python3"
  },
  "language_info": {
   "codemirror_mode": {
    "name": "ipython",
    "version": 3
   },
   "file_extension": ".py",
   "mimetype": "text/x-python",
   "name": "python",
   "nbconvert_exporter": "python",
   "pygments_lexer": "ipython3",
   "version": "3.6.0"
  }
 },
 "nbformat": 4,
 "nbformat_minor": 2
}
