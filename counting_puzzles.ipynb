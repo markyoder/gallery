{
 "cells": [
  {
   "cell_type": "markdown",
   "metadata": {},
   "source": [
    "### The \"Adds up to 100\" puzzle:\n",
    "- The question is more or les stated, \"Given some vector of \"numbers\" $X$ of positive numbers, which might be quite large, how many pairs of numbers add up to 100?\"\n",
    "- First, answer the question with a question: What kind of numbers? Integers? Over what range -- are all of the numbers $x_j < 100$?\n",
    "- Here, we will provide reasonably general solutions for both the continuum and integer cases.\n",
    "- Note that fundamentally, this is an $ON^2$ problem, but we want to reduce that as much as possible.e \n",
    "\n",
    "#### Summary findings:\n",
    "- We can use sorting based strategies to significantly reduce the order of the algorithm for continuum sequences, though the performance of such an algorithm might be difficult to anticipate\n",
    "- For integers, we can reduce the problem to approximately $ON$, or $c \\to ON$ in the limit of very large $N$. This reduction arises from the simple fact that, no matter how large $N$ is, there are only 101 distinct values of interest, all positive integers $x \\le 100$, including $0$. Therefore, we can index the set like, $I = \\{ x:n_x, ... \\}$ where $0 \\le x \\le 100$ are the values of $x$ and $n_x$ are the number of that value in the set.\n",
    "- We can now look for the number of pairs in this reduced set, and in fact, because the valuse are integer type, we can again use our index. For each value $x_j$, we can compute its compliment, $x^c_j = 100 - x_j$; we can then look up $x^c_j$ in our index, and the"
   ]
  },
  {
   "cell_type": "code",
   "execution_count": 18,
   "metadata": {
    "collapsed": false
   },
   "outputs": [
    {
     "name": "stdout",
     "output_type": "stream",
     "text": [
      "The autoreload extension is already loaded. To reload it, use:\n",
      "  %reload_ext autoreload\n"
     ]
    }
   ],
   "source": [
    "%load_ext autoreload\n",
    "%autoreload 2\n",
    "%matplotlib inline\n",
    "\n"
   ]
  },
  {
   "cell_type": "code",
   "execution_count": 19,
   "metadata": {
    "collapsed": false
   },
   "outputs": [],
   "source": [
    "import matplotlib\n",
    "import pylab as plt\n",
    "import numpy\n",
    "import scipy\n",
    "import random\n"
   ]
  },
  {
   "cell_type": "markdown",
   "metadata": {},
   "source": [
    "### Make a sequence of numbers"
   ]
  },
  {
   "cell_type": "code",
   "execution_count": 20,
   "metadata": {
    "collapsed": false
   },
   "outputs": [],
   "source": [
    "N = 1000\n",
    "R = random.Random()\n",
    "\n",
    "x_min = 0.\n",
    "x_max = 100.\n",
    "\n",
    "# search range:\n",
    "x_lo = 50.\n",
    "x_hi = 60.\n",
    "\n",
    "X = [R.random()*(x_min + (x_max - x_min)) for _ in range(N)]\n"
   ]
  },
  {
   "cell_type": "markdown",
   "metadata": {},
   "source": [
    "### Continuum case:\n",
    "- First, we might assume based on how the question was phrased that we can ignore this case. Continuum values never really equal oneanother, so we'll modify the question to say something like, find the pairs of numbers whose sum is between $x_{min} < x_1 + x_2 < x_{max}$.\n",
    "- We don't have too much to work with; this problem is still fundamentally (as much as) $ON^2$, but:\n",
    "    - We can use sorting to reduce the scope a bit\n",
    "    - Obviuosly, we can exclude any numbers $x>x_{max}$\n",
    "    - ... etc.\n",
    "- So this gets us approximately $O(N \\cdot \\log(N) + \\alpha N^2)$, where $\\alpha$ is more or less (exactly?) the square of the fraction of values $x < x_{max}$.\n",
    "- So we observe significant reductions in the complexity, even for $x_{hi} \\approx x_{max}$. The next step might be to figure out a witty indexing or modulus-skipping system to optimize the search for small $x$.\n"
   ]
  },
  {
   "cell_type": "code",
   "execution_count": 21,
   "metadata": {
    "collapsed": false
   },
   "outputs": [
    {
     "name": "stdout",
     "output_type": "stream",
     "text": [
      "Number of distinct pairs: 53695\n",
      "nits: 169074/1000000 (0.169)\n"
     ]
    }
   ],
   "source": [
    "# now, find all pairs where x1 < (x_j + x_k) < x2\n",
    "#\n",
    "# make a sorted copy of X:\n",
    "X_prime = list(sorted(X))\n",
    "pairs = []\n",
    "nits = 0\n",
    "#\n",
    "# we should maybe (or maybe not) use itertools, but first, let's just block it out:\n",
    "for j, x1 in enumerate(X_prime):\n",
    "    # is this a valid value for x1? if we've already exceeded our maximum value, we can stop spinning...\n",
    "    if x1>x_hi: break\n",
    "    #\n",
    "    for k, x2 in enumerate(X_prime):\n",
    "        nits += 1\n",
    "        if x2 + x1 > x_hi:\n",
    "            break\n",
    "        x = x1 + x2\n",
    "        if x>=x_lo and x<=x_hi:\n",
    "            pairs += [[j,k, x1, x2, x]]\n",
    "        #\n",
    "#\n",
    "#       \n",
    "\n",
    "print(\"Number of distinct pairs: {}\".format(len(pairs)))\n",
    "print('nits: {}/{} ({:.3f})'.format(nits, N*N, nits/(N*N)))"
   ]
  },
  {
   "cell_type": "markdown",
   "metadata": {},
   "source": [
    "#### Variable Types: The Integer trick\n",
    "\n",
    "- So that's the sort of problem we would probably encounter in physical science -- continuum values.\n",
    "- But in CS, or just for the sake of puzzles, let's consider the case where $X$ is restricted to positive ingegers, this problem becomes approximately $ON$ for large $N$. The number of integers that add to 100 is small (it's 100).\n",
    "- We solve the problem in two steps. We index and filter the input:\n",
    "    - Exclude all values $x>100$; count and index the number of each value $x \\le 100$\n",
    "    - Now, for each entry $x_j$, compute the colplement $x_k = 100 - x_j$, and add the total count, $n = n_j \\cdot n_k$.\n",
    "    - Note that we return the pairs, $x_j + x_k = 100$, and their counts. These are $2 \\times$ degenerate, in that we get two redundant pairs, $(x_j, x_k) = (x_k, x_j)$, so if we want the total count, add these up and divide by two. \n",
    "    - ...or equivalently, add up half of them. So we only need to spin over $0 < x_1 < 50$.\n",
    "- Note also that, we interpret this challenge with the simplified rule that an element can be use multiple times, in multiple pairs. If we can only use an entry once, the number of single-use pairs is $n=min(n_j, n_k)$."
   ]
  },
  {
   "cell_type": "code",
   "execution_count": 28,
   "metadata": {
    "collapsed": false
   },
   "outputs": [
    {
     "name": "stdout",
     "output_type": "stream",
     "text": [
      "n[100] = 43, n[3]=49, n[5]=51\n",
      "pairs: \n",
      "[(0, 100), (61, 43), 2623]\n",
      "[(1, 99), (61, 43), 2623]\n",
      "[(2, 98), (51, 39), 1989]\n",
      "[(3, 97), (49, 44), 2156]\n",
      "[(4, 96), (47, 50), 2350]\n",
      "[(5, 95), (51, 48), 2448]\n",
      "[(6, 94), (51, 53), 2703]\n",
      "[(7, 93), (46, 41), 1886]\n",
      "[(8, 92), (46, 39), 1794]\n",
      "[(9, 91), (47, 48), 2256]\n",
      "[(10, 90), (42, 45), 1890]\n",
      "[(11, 89), (61, 51), 3111]\n",
      "[(12, 88), (43, 44), 1892]\n",
      "[(13, 87), (46, 37), 1702]\n",
      "[(14, 86), (54, 66), 3564]\n",
      "[(15, 85), (42, 55), 2310]\n",
      "[(16, 84), (62, 54), 3348]\n",
      "[(17, 83), (52, 48), 2496]\n",
      "[(18, 82), (36, 59), 2124]\n",
      "[(19, 81), (53, 60), 3180]\n",
      "[(20, 80), (43, 72), 3096]\n",
      "[(21, 79), (48, 54), 2592]\n",
      "[(22, 78), (38, 54), 2052]\n",
      "[(23, 77), (61, 40), 2440]\n",
      "[(24, 76), (38, 47), 1786]\n",
      "[(25, 75), (46, 48), 2208]\n",
      "[(26, 74), (57, 53), 3021]\n",
      "[(27, 73), (54, 50), 2700]\n",
      "[(28, 72), (44, 45), 1980]\n",
      "[(29, 71), (50, 50), 2500]\n",
      "[(30, 70), (54, 55), 2970]\n",
      "[(31, 69), (44, 36), 1584]\n",
      "[(32, 68), (48, 62), 2976]\n",
      "[(33, 67), (53, 52), 2756]\n",
      "[(34, 66), (53, 53), 2809]\n",
      "[(35, 65), (48, 43), 2064]\n",
      "[(36, 64), (44, 54), 2376]\n",
      "[(37, 63), (54, 56), 3024]\n",
      "[(38, 62), (34, 34), 1156]\n",
      "[(39, 61), (66, 57), 3762]\n",
      "[(40, 60), (63, 58), 3654]\n",
      "[(41, 59), (37, 37), 1369]\n",
      "[(42, 58), (54, 53), 2862]\n",
      "[(43, 57), (59, 52), 3068]\n",
      "[(44, 56), (42, 58), 2436]\n",
      "[(45, 55), (57, 53), 3021]\n",
      "[(46, 54), (54, 45), 2430]\n",
      "[(47, 53), (50, 47), 2350]\n",
      "[(48, 52), (57, 61), 3477]\n",
      "[(49, 51), (52, 50), 2600]\n",
      "[(50, 50), (60, 60), 3600]\n"
     ]
    }
   ],
   "source": [
    "N = 10000\n",
    "R = random.Random()\n",
    "#\n",
    "x_min = 0.\n",
    "x_max = 200.\n",
    "#\n",
    "X = [int(R.random()*(x_min + (x_max - x_min))) for _ in range(N)]\n",
    "#\n",
    "X_index = {x:0 for x in range(int(x_min), 101, 1) }\n",
    "for x in X:\n",
    "    if x>100: \n",
    "        continue\n",
    "    #\n",
    "    X_index[x] +=1\n",
    "#\n",
    "pairs = []\n",
    "#\n",
    "for x,n in X_index.items():\n",
    "    # we might sort, or we can just skip x>x_0 values...\n",
    "    if x>50: continue\n",
    "    x_prime = int(100 - x)\n",
    "    n_prime = X_index[x_prime]\n",
    "    #\n",
    "    pairs += [[(x, x_prime), (n, n_prime), n*n_prime]]\n",
    "#\n",
    "#\n",
    "# a quick idot-check:\n",
    "print('n[100] = {}, n[3]={}, n[5]={}'.format(X.count(100), X.count(3), X.count(5)))\n",
    "#\n",
    "print('pairs: ')\n",
    "for p in pairs: print(p)\n"
   ]
  },
  {
   "cell_type": "markdown",
   "metadata": {
    "collapsed": false
   },
   "source": [
    "### Comments: \n",
    "- Note that we can hybridize these techniques.\n",
    "- If we have inherently continuum value data, can we approximate (round or truncate) those values, so that we can index them?\n",
    "    - $x = 5.1$, $dx = .1$, $j=51$\n",
    "    - $j_k = int \\left( \\frac{x_k}{dx} \\right)$ \n",
    "- It gets a little bit trickeier when we then evaluate a range of equalities, using our indexed system, but it's not too bad; we simply replace our $x_c = 100 - x$ with a framework where we evaluate all $(x_{lo}-x) < x_c < (x_{hi}-x)$. How exactly we do this may depend on the properties of the data.\n"
   ]
  },
  {
   "cell_type": "code",
   "execution_count": null,
   "metadata": {
    "collapsed": true
   },
   "outputs": [],
   "source": []
  }
 ],
 "metadata": {
  "kernelspec": {
   "display_name": "Python 3",
   "language": "python",
   "name": "python3"
  },
  "language_info": {
   "codemirror_mode": {
    "name": "ipython",
    "version": 3
   },
   "file_extension": ".py",
   "mimetype": "text/x-python",
   "name": "python",
   "nbconvert_exporter": "python",
   "pygments_lexer": "ipython3",
   "version": "3.6.0"
  }
 },
 "nbformat": 4,
 "nbformat_minor": 2
}
