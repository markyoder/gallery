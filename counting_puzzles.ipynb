{
 "cells": [
  {
   "cell_type": "markdown",
   "metadata": {
    "deletable": true,
    "editable": true
   },
   "source": [
    "##### A work in progress: This notebook is a work in progress, so there might be a few bugs here and there, and parts of it are not (yet) pretty, but i think some salient concepts are represented, and overall, it's getting there...\n",
    "\n",
    "### The \"Adds up to 100\" puzzle:\n",
    "- The question is more or les stated, \"Given some vector of \"numbers\" $X$ of positive numbers, which might be quite large, how many pairs of numbers add up to 100?\"\n",
    "- First, answer the question with a question: What kind of numbers? Integers? Over what range -- are all of the numbers $x_j < 100$?\n",
    "- Here, we will provide reasonably general solutions for both the continuum and integer cases.\n",
    "- Note that fundamentally, this is an $ON^2$ problem, but we want to reduce that as much as possible.e \n",
    "\n",
    "#### Summary findings:\n",
    "- We can use sorting based strategies to significantly reduce the order of the algorithm for continuum sequences, though the performance of such an algorithm might be difficult to anticipate\n",
    "- For integers, we can reduce the problem to approximately $ON$, or $c \\to ON$ in the limit of very large $N$. This reduction arises from the simple fact that, no matter how large $N$ is, there are only 101 distinct values of interest, all positive integers $x \\le 100$, including $0$. Therefore, we can index the set like, $I = \\{ x:n_x, ... \\}$ where $0 \\le x \\le 100$ are the values of $x$ and $n_x$ are the number of that value in the set.\n",
    "- We can now look for the number of pairs in this reduced set, and in fact, because the valuse are integer type, we can again use our index. For each value $x_j$, we can compute its compliment, $x^c_j = 100 - x_j$; we can then look up $x^c_j$ in our index, and the"
   ]
  },
  {
   "cell_type": "code",
   "execution_count": 1,
   "metadata": {
    "collapsed": false,
    "deletable": true,
    "editable": true
   },
   "outputs": [],
   "source": [
    "%load_ext autoreload\n",
    "%autoreload 2\n",
    "%matplotlib inline\n",
    "\n"
   ]
  },
  {
   "cell_type": "code",
   "execution_count": 2,
   "metadata": {
    "collapsed": false,
    "deletable": true,
    "editable": true
   },
   "outputs": [],
   "source": [
    "import matplotlib\n",
    "import pylab as plt\n",
    "import numpy\n",
    "import scipy\n",
    "import random\n",
    "import itertools\n"
   ]
  },
  {
   "cell_type": "markdown",
   "metadata": {
    "deletable": true,
    "editable": true
   },
   "source": [
    "### Make a sequence of numbers"
   ]
  },
  {
   "cell_type": "code",
   "execution_count": 3,
   "metadata": {
    "collapsed": false,
    "deletable": true,
    "editable": true
   },
   "outputs": [],
   "source": [
    "N = 1000\n",
    "R = random.Random()\n",
    "#\n",
    "x_min = 0.\n",
    "x_max = 100.\n",
    "#\n",
    "# search range:\n",
    "x_lo = 50.\n",
    "x_hi = 60.\n",
    "#\n",
    "X = [R.random()*(x_min + (x_max - x_min)) for _ in range(N)]\n",
    "#"
   ]
  },
  {
   "cell_type": "markdown",
   "metadata": {
    "deletable": true,
    "editable": true
   },
   "source": [
    "### Continuum case:\n",
    "- First, we might assume based on how the question was phrased that we can ignore this case. Continuum values never really equal oneanother, so we'll modify the question to say something like, find the pairs of numbers whose sum is between $x_{min} < x_1 + x_2 < x_{max}$, where $x_{min}$ and $x_{max}$ represent the range of interest. For example, in the spirit of the initial question, as stated, we might want all pairs $x_j,~x_j$ such that $99.0 < x_j + x_k < 100$.\n",
    "- We don't have too much to work with; this problem is still fundamentally (as much as) $ON^2$, but:\n",
    "    - We can use sorting to possibly reduce the scope a bit\n",
    "    - Obviuosly, we can exclude any numbers $x>x_{max}$\n",
    "    - ... etc.\n",
    "- So this gets us approximately $O(N \\cdot \\log(N) + \\alpha N^2)$, where $\\alpha$ is more or less (exactly?) the square of the fraction of values $x < x_{max}$.\n",
    "- So we observe significant reductions in the complexity, even for $x_{hi} \\approx x_{max}$. The next step might be to figure out a witty indexing or modulus-skipping system to optimize the search for small $x$.\n"
   ]
  },
  {
   "cell_type": "code",
   "execution_count": 4,
   "metadata": {
    "collapsed": false,
    "deletable": true,
    "editable": true
   },
   "outputs": [
    {
     "name": "stdout",
     "output_type": "stream",
     "text": [
      "Number of distinct pairs: 56442\n",
      "nits: 189100/1000000 (0.189)\n"
     ]
    }
   ],
   "source": [
    "# now, find all pairs where x1 < (x_j + x_k) < x2\n",
    "#\n",
    "# make a sorted copy of X:\n",
    "X_prime = list(sorted(X))\n",
    "pairs = []\n",
    "nits = 0\n",
    "#\n",
    "# we should maybe (or maybe not) use itertools, but first, let's just block it out:\n",
    "for j, x1 in enumerate(X_prime):\n",
    "    # is this a valid value for x1? if we've already exceeded our maximum value, we can stop spinning...\n",
    "    if x1>x_hi: break\n",
    "    #\n",
    "    for k, x2 in enumerate(X_prime):\n",
    "        nits += 1\n",
    "        if x2 + x1 > x_hi:\n",
    "            break\n",
    "        x = x1 + x2\n",
    "        if x>=x_lo and x<=x_hi:\n",
    "            pairs += [[j,k, x1, x2, x]]\n",
    "        #\n",
    "#\n",
    "#       \n",
    "\n",
    "print(\"Number of distinct pairs: {}\".format(len(pairs)))\n",
    "print('nits: {}/{} ({:.3f})'.format(nits, N*N, nits/(N*N)))"
   ]
  },
  {
   "cell_type": "markdown",
   "metadata": {
    "deletable": true,
    "editable": true
   },
   "source": [
    "#### Variable Types: The Integer trick\n",
    "\n",
    "- So that's the sort of problem we would probably encounter in physical science -- continuum values.\n",
    "- But in CS, or just for the sake of puzzles, let's consider the case where $X$ is restricted to positive ingegers, this problem becomes approximately $ON$ for large $N$. The number of integers that add to 100 is small (it's 100).\n",
    "- We solve the problem in two steps. We index and filter the input:\n",
    "    - Exclude all values $x>100$; count and index the number of each value $x \\le 100$\n",
    "    - Now, for each entry $x_j$, compute the colplement $x_k = 100 - x_j$, and add the total count, $n = n_j \\cdot n_k$.\n",
    "    - Note that we return the pairs, $x_j + x_k = 100$, and their counts. These are $2 \\times$ degenerate, in that we get two redundant pairs, $(x_j, x_k) = (x_k, x_j)$, so if we want the total count, add these up and divide by two. \n",
    "    - ...or equivalently, add up half of them. So we only need to spin over $0 < x_1 < 50$.\n",
    "- Note also that, we interpret this challenge with the simplified rule that an element can be use multiple times, in multiple pairs. If we can only use an entry once, the number of single-use pairs is $n=min(n_j, n_k)$."
   ]
  },
  {
   "cell_type": "code",
   "execution_count": 5,
   "metadata": {
    "collapsed": false,
    "deletable": true,
    "editable": true
   },
   "outputs": [
    {
     "name": "stdout",
     "output_type": "stream",
     "text": [
      "n[100] = 48, n[3]=56, n[5]=46\n",
      "total pairs: 126579.0\n",
      "pairs: \n",
      "[(0, 100), (41, 48), 1968]\n",
      "[(1, 99), (54, 59), 3186]\n",
      "[(2, 98), (50, 51), 2550]\n",
      "[(3, 97), (56, 49), 2744]\n",
      "[(4, 96), (52, 48), 2496]\n",
      "[(5, 95), (46, 63), 2898]\n",
      "[(6, 94), (46, 46), 2116]\n",
      "[(7, 93), (54, 46), 2484]\n",
      "[(8, 92), (43, 62), 2666]\n",
      "[(9, 91), (45, 40), 1800]\n",
      "[(10, 90), (47, 47), 2209]\n",
      "[(11, 89), (50, 54), 2700]\n",
      "[(12, 88), (50, 38), 1900]\n",
      "[(13, 87), (64, 53), 3392]\n",
      "[(14, 86), (49, 39), 1911]\n",
      "[(15, 85), (45, 62), 2790]\n",
      "[(16, 84), (57, 51), 2907]\n",
      "[(17, 83), (56, 53), 2968]\n",
      "[(18, 82), (59, 53), 3127]\n",
      "[(19, 81), (63, 51), 3213]\n",
      "[(20, 80), (65, 51), 3315]\n",
      "[(21, 79), (53, 51), 2703]\n",
      "[(22, 78), (35, 51), 1785]\n",
      "[(23, 77), (48, 40), 1920]\n",
      "[(24, 76), (48, 61), 2928]\n",
      "[(25, 75), (52, 66), 3432]\n",
      "[(26, 74), (45, 51), 2295]\n",
      "[(27, 73), (44, 46), 2024]\n",
      "[(28, 72), (52, 53), 2756]\n",
      "[(29, 71), (50, 53), 2650]\n",
      "[(30, 70), (48, 54), 2592]\n",
      "[(31, 69), (40, 41), 1640]\n",
      "[(32, 68), (57, 44), 2508]\n",
      "[(33, 67), (45, 49), 2205]\n",
      "[(34, 66), (41, 50), 2050]\n",
      "[(35, 65), (46, 47), 2162]\n",
      "[(36, 64), (44, 43), 1892]\n",
      "[(37, 63), (54, 40), 2160]\n",
      "[(38, 62), (58, 51), 2958]\n",
      "[(39, 61), (44, 58), 2552]\n",
      "[(40, 60), (40, 46), 1840]\n",
      "[(41, 59), (55, 54), 2970]\n",
      "[(42, 58), (54, 48), 2592]\n",
      "[(43, 57), (42, 58), 2436]\n",
      "[(44, 56), (61, 41), 2501]\n",
      "[(45, 55), (57, 46), 2622]\n",
      "[(46, 54), (60, 55), 3300]\n",
      "[(47, 53), (42, 48), 2016]\n",
      "[(48, 52), (52, 59), 3068]\n",
      "[(49, 51), (38, 35), 1330]\n",
      "[(50, 50), (52, 52), 1352.0]\n"
     ]
    }
   ],
   "source": [
    "N = 10000\n",
    "R = random.Random()\n",
    "#\n",
    "x_min = 0.\n",
    "x_max = 200.\n",
    "#\n",
    "X = [int(R.random()*(x_min + (x_max - x_min))) for _ in range(N)]\n",
    "#\n",
    "X_index = {x:0 for x in range(int(x_min), 101, 1) }\n",
    "for x in X:\n",
    "    if x>100: \n",
    "        continue\n",
    "    #\n",
    "    X_index[x] +=1\n",
    "#\n",
    "pairs = []\n",
    "#\n",
    "for x,n in X_index.items():\n",
    "    # we might sort, or we can just skip x>x_0 values...\n",
    "    if x>50: continue\n",
    "    #if x>100: continue\n",
    "    x_prime = int(100 - x)\n",
    "    n_prime = X_index[x_prime]\n",
    "    #\n",
    "    pairs += [[(x, x_prime), (n, n_prime), n*n_prime]]\n",
    "# ... but we will still count 50 twice.note that 50+50 should occur approximately half as often\n",
    "# as other combinations, since it is the same one value repeated, not two values.\n",
    "# generally, this might be considered an example of the kind of erro we might incur by trying to\n",
    "# over optimize -- introducing complexities to the code that lend themselves to mistakes, but don't\n",
    "# really add much benefit (how much do we really need the O(N/2) boost? at what cost in terms of possible\n",
    "# errors?)\n",
    "# now\n",
    "pairs[50][-1]/=2\n",
    "n_pairs = numpy.sum([rw[-1] for rw in pairs])\n",
    "#\n",
    "#\n",
    "# a quick idot-check:\n",
    "print('n[100] = {}, n[3]={}, n[5]={}'.format(X.count(100), X.count(3), X.count(5)))\n",
    "print('total pairs: {}'.format(n_pairs))\n",
    "#\n",
    "print('pairs: ')\n",
    "for p in pairs: print(p)\n"
   ]
  },
  {
   "cell_type": "code",
   "execution_count": 6,
   "metadata": {
    "collapsed": true,
    "deletable": true,
    "editable": true
   },
   "outputs": [],
   "source": [
    "# now, code it up into a class with some generalizations:\n",
    "\n",
    "class Pair_Sum_Counter(list):\n",
    "    def __init__(self, X, x_target=100, enforce_integers=True):\n",
    "        # X: input vector. we are going to assume (and enforce) ingegers.\n",
    "        # first, verify that we have integers (though we permit skipping this step, for large\n",
    "        self.x_target = x_target\n",
    "        self.enforce_integers = enforce_integers\n",
    "        # data sets and confident operators):\n",
    "        if enforce_integers:\n",
    "            # check for integers, then cast? or just cast? since we don't know what we're going to get,\n",
    "            # we're guessing at which approach optimizes, so just keep it simple.\n",
    "            # we might also block out the loop so we can raise a warning for non-integer types,\n",
    "            # but that will compromize performance in Python.\n",
    "            X = [int(x) for x in X]\n",
    "        #\n",
    "        # now, index X:\n",
    "        # to index all of X (number of each value):\n",
    "        #self.update({x:0 for x in set(X)})\n",
    "        #\n",
    "        # but we really only want:\n",
    "        X_index = {k:0 for k in range(0, x_target+1, 1)}\n",
    "        #\n",
    "        # now count:\n",
    "        for x in X:\n",
    "            if x>x_target: \n",
    "                continue\n",
    "            #\n",
    "            X_index[x] +=1\n",
    "        #\n",
    "        pairs = self\n",
    "        #\n",
    "        # for simplicity, let's just count all the pairs, recognize that we are double-counting the\n",
    "        # (arguably) degerate cases (a,b) == (b,a). we can optimize by skipping the second half of the primary\n",
    "        # loop, but then we have to handle odd/even cases separately (aka, for 50 + 50 = 100), and the main\n",
    "        # objective of this algorithm is to reduce an ON^2 problem to ~O(x_target), so a factor of 2 here\n",
    "        # is usually a small problem.\n",
    "        for x,n in X_index.items():\n",
    "            # we might sort, or we can just skip x>x_0 values...\n",
    "            if x>x_target: continue\n",
    "            x_prime = int(x_target - x)\n",
    "            n_prime = X_index[x_prime]\n",
    "            #\n",
    "            pairs += [[(x, x_prime), (n, n_prime), n*n_prime]]\n",
    "        #\n",
    "        # this should always be even (sum([])/2 is integer)\n",
    "        self.n_pairs = numpy.sum([rw[-1] for rw in pairs])/2."
   ]
  },
  {
   "cell_type": "code",
   "execution_count": 11,
   "metadata": {
    "collapsed": false,
    "deletable": true,
    "editable": true
   },
   "outputs": [
    {
     "name": "stdout",
     "output_type": "stream",
     "text": [
      "126579.0\n",
      "***\n",
      "[[(0, 100), (41, 48), 1968], [(1, 99), (54, 59), 3186], [(2, 98), (50, 51), 2550], [(3, 97), (56, 49), 2744], [(4, 96), (52, 48), 2496]]\n",
      "*****\n",
      "*****\n",
      "[[(0, 100), (41, 48), 1968], [(1, 99), (54, 59), 3186], [(2, 98), (50, 51), 2550], [(3, 97), (56, 49), 2744], [(4, 96), (52, 48), 2496]]\n",
      "[[(0, 42), (41, 54), 2214], [(1, 41), (54, 55), 2970], [(2, 40), (50, 40), 2000], [(3, 39), (56, 44), 2464], [(4, 38), (52, 58), 3016]]\n"
     ]
    }
   ],
   "source": [
    "# first, check vs. previous code:     \n",
    "PSC = Pair_Sum_Counter(X=X, x_target=100)\n",
    "print(PSC.n_pairs)\n",
    "\n",
    "print('***')\n",
    "print(pairs[0:5])\n",
    "print('*****\\n*****')\n",
    "print(PSC[0:5])\n",
    "#\n",
    "# what about some other x_target?\n",
    "PCS2 = Pair_Sum_Counter(X=X, x_target=42)\n",
    "print(PCS2[0:5])"
   ]
  },
  {
   "cell_type": "markdown",
   "metadata": {
    "deletable": true,
    "editable": true
   },
   "source": [
    "#### Check results with brute-force method:"
   ]
  },
  {
   "cell_type": "code",
   "execution_count": 14,
   "metadata": {
    "collapsed": false,
    "deletable": true,
    "editable": true
   },
   "outputs": [
    {
     "name": "stdout",
     "output_type": "stream",
     "text": [
      "total: 126579.0 (126579.0), ON2:100000000/8.0\n"
     ]
    }
   ],
   "source": [
    "import itertools\n",
    "\n",
    "class Brute_Force_Pair_Counter(list):\n",
    "    # brute force pair-counter. assume integer inputs, or at least that we can use\n",
    "    # a == b equivalence. for float values, we really need to write an almost_equal(a,b)\n",
    "    # operator, but we'll save that for a real application...\n",
    "    #\n",
    "    # regarding list[] inheritance... or maybe dict. eventually populate the pairs... mabye use a nested\n",
    "    # dict{} structure, {x_j:{x_k:n, ...}, }\n",
    "    def __init__(self, X, target_value=100):\n",
    "        n_pairs = 0\n",
    "        for x1,x2 in itertools.product(X,X):\n",
    "            if x1 + x2 == 100: n_pairs += 1\n",
    "            #\n",
    "        #\n",
    "        self.n_total = n_pairs\n",
    "    #\n",
    "BF_pairs = Brute_Force_Pair_Counter(X,100)\n",
    "\n",
    "print('total: {} ({}), ON2:{}/{}'.format(BF_pairs.n_total/2, n_pairs, len(X)**2, 2*numpy.log10(len(X))))\n",
    "#print(n_pairs*2)\n"
   ]
  },
  {
   "cell_type": "markdown",
   "metadata": {
    "deletable": true,
    "editable": true
   },
   "source": [
    "### Diagnostics and Unit Testing\n",
    "- Test the integer counter class against the Brute_Force counter class for a few data sets, for a few x_target.\n",
    "- Evaluate time-to-completion (TTC), n_steps (how did we do with complexity?), and of course to be sure we get the same count(s)."
   ]
  },
  {
   "cell_type": "markdown",
   "metadata": {
    "collapsed": false,
    "deletable": true,
    "editable": true
   },
   "source": [
    "### Comments: \n",
    "- Note that we can hybridize these techniques.\n",
    "- If we have inherently continuum value data, can we approximate (round or truncate) those values, so that we can index them?\n",
    "    - $x = 5.1$, $dx = .1$, $j=51$\n",
    "    - $j_k = int \\left( \\frac{x_k}{dx} \\right)$ \n",
    "- It gets a little bit trickeier when we then evaluate a range of equalities, using our indexed system, but it's not too bad; we simply replace our $x_c = 100 - x$ with a framework where we evaluate all $(x_{lo}-x) < x_c < (x_{hi}-x)$. How exactly we do this may depend on the properties of the data.\n"
   ]
  },
  {
   "cell_type": "markdown",
   "metadata": {
    "collapsed": true,
    "deletable": true,
    "editable": true
   },
   "source": [
    "### Permutations\n",
    "- Techniclaly (I think), \"permutations\" are ordered, and very straight forward\n",
    "- Did we mean... I don't know, \"collections?\" unordered permutaions? We can get these recursively.\n",
    "- Obviously, the best way to get permutations is to use itertools. We do this first to use as a validation.\n",
    "- TODO: we are trying to straddle both the string and array input. What is more intuitive or versatile? To always return an array, or to return a string if the input is a string? It is easy enough to handle exceptions on the calling side either way."
   ]
  },
  {
   "cell_type": "code",
   "execution_count": 8,
   "metadata": {
    "collapsed": true
   },
   "outputs": [],
   "source": [
    "# enter a \"word\" here. it can be a string or a list/array. note that internally, we use \"list\"\n",
    "# type behavior, but we convert the input to list type right away, which handles both the string\n",
    "# and numpy array behaviors.\n",
    "#\n",
    "my_word = numpy.array(list(range(4)))\n",
    "#my_word = 'abcd'\n",
    "#"
   ]
  },
  {
   "cell_type": "code",
   "execution_count": 9,
   "metadata": {
    "collapsed": false
   },
   "outputs": [
    {
     "name": "stdout",
     "output_type": "stream",
     "text": [
      "[0]: (0, 1, 2, 3)\n",
      "[1]: (0, 1, 3, 2)\n",
      "[2]: (0, 2, 1, 3)\n",
      "[3]: (0, 2, 3, 1)\n",
      "[4]: (0, 3, 1, 2)\n",
      "[5]: (0, 3, 2, 1)\n",
      "[6]: (1, 0, 2, 3)\n",
      "[7]: (1, 0, 3, 2)\n",
      "[8]: (1, 2, 0, 3)\n",
      "[9]: (1, 2, 3, 0)\n",
      "[10]: (1, 3, 0, 2)\n",
      "[11]: (1, 3, 2, 0)\n",
      "[12]: (2, 0, 1, 3)\n",
      "[13]: (2, 0, 3, 1)\n",
      "[14]: (2, 1, 0, 3)\n",
      "[15]: (2, 1, 3, 0)\n",
      "[16]: (2, 3, 0, 1)\n",
      "[17]: (2, 3, 1, 0)\n",
      "[18]: (3, 0, 1, 2)\n",
      "[19]: (3, 0, 2, 1)\n",
      "[20]: (3, 1, 0, 2)\n",
      "[21]: (3, 1, 2, 0)\n",
      "[22]: (3, 2, 0, 1)\n",
      "[23]: (3, 2, 1, 0)\n"
     ]
    }
   ],
   "source": [
    "# first, get the answer the smart way; use a compiled, tried and tested library.\n",
    "# we'll compare out output to this output.\n",
    "iter_permiutations = [wrd for wrd in itertools.permutations(my_word)]\n",
    "#\n",
    "for k, wrd in enumerate(iter_permiutations):\n",
    "    if isinstance(my_word, str):\n",
    "        print('[{}]: {}'.format(k, ''.join(wrd)))\n",
    "        iter_permutation_words = [''.join(wrd) for wrd in iter_permiutations]\n",
    "    else:\n",
    "        print('[{}]: {}'.format(k, wrd)) \n",
    "#\n",
    "iter_permutation_words = [''.join([str(s) for s in wrd]) for wrd in iter_permiutations]\n",
    "iter_permutation_words.sort()\n",
    "\n",
    "#"
   ]
  },
  {
   "cell_type": "markdown",
   "metadata": {},
   "source": [
    "#### Homegrown permutations:\n",
    "- Start with a simple ordered permutations algorithm\n",
    "- Then construct un-orderd combinations by permuting on sub-sets of the input 'word'.\n",
    "- Note there are subtle syntantical nuances when handling strings vs (non-string) arrays, but most of the underlying code is the same."
   ]
  },
  {
   "cell_type": "code",
   "execution_count": 10,
   "metadata": {
    "collapsed": false
   },
   "outputs": [
    {
     "name": "stdout",
     "output_type": "stream",
     "text": [
      "my_word:  [0 1 2 3]\n",
      "3012\n",
      "3120\n",
      "2310\n",
      "2013\n",
      "2103\n",
      "3201\n",
      "3021\n",
      "0321\n",
      "2031\n",
      "3102\n",
      "0231\n",
      "1203\n",
      "1230\n",
      "1032\n",
      "2130\n",
      "0132\n",
      "0312\n",
      "3210\n",
      "0213\n",
      "1023\n",
      "0123\n",
      "1320\n",
      "1302\n",
      "2301\n",
      "len:  24\n",
      "PASSED! our permutations are the same as itertools. \n"
     ]
    }
   ],
   "source": [
    "def get_ordered_permutations_str(word):\n",
    "    #\n",
    "    # this version assumes a string type input, returns a string type output.\n",
    "    # with a few modifications (see get_rodered_permutations_ary() below) we can\n",
    "    # transparently handle string or array-like input\n",
    "    #\n",
    "    my_permutes = []\n",
    "    N = len(word)\n",
    "    for k,c in enumerate(word):\n",
    "        my_word = ''\n",
    "        for j in range(k,k+N):\n",
    "            my_word = my_word + word[j%N]\n",
    "        my_permutes += [my_word]\n",
    "    #print('** DEBUG:', my_permutes)\n",
    "    return my_permutes\n",
    "#\n",
    "def get_ordered_permutations_ary(word):\n",
    "    my_permutes = []\n",
    "    word_ary = [c for c in word]\n",
    "    N = len(word_ary)\n",
    "    for k,c in enumerate(word_ary):\n",
    "        #\n",
    "        my_word = [word_ary[j%N] for j in range(k,k+N)]\n",
    "        my_permutes += [my_word]\n",
    "    #print('** ', my_permutes)\n",
    "    return my_permutes\n",
    "#\n",
    "def get_unordered_permutations(word):\n",
    "    # get all combinations by getting permutations of subsets of the complete word.\n",
    "    # i expect there is a fully recursive way to do this, but this is prett efficient\n",
    "    # and i think spells out the process instructively.\n",
    "    #\n",
    "    word_ary = [c for c in word]\n",
    "    N = len(word)\n",
    "    permutes = [word_ary]\n",
    "    #\n",
    "    for k in range(N-1):\n",
    "        my_permutes = []\n",
    "        for j, wrd in enumerate(permutes):\n",
    "            my_permutes += [wrd[0:k] + s for s in get_ordered_permutations_ary(wrd[k:])]\n",
    "            #print('** ', my_permutes[1:])\n",
    "            #\n",
    "        #\n",
    "        # add permutations, but filter dupes (and later fund a not-dumb way to do this. i think\n",
    "        # we might be able to avoid this by recursing the ordered permutations a smarter way):\n",
    "        for p in my_permutes[1:]:\n",
    "            if not p in permutes: permutes += [p]\n",
    "        #\n",
    "    return permutes\n",
    "#\n",
    "# some tests and diagnostics:\n",
    "print('my_word: ', my_word)\n",
    "xx = [''.join([str(s) for s in wrd]) for wrd in get_unordered_permutations(my_word)]\n",
    "\n",
    "for x in set(xx):\n",
    "    print(x)\n",
    "print('len: ', len(set(xx)))\n",
    "#\n",
    "# did we get the same as itertools?\n",
    "if sorted(iter_permutation_words)==sorted(xx):\n",
    "    print('PASSED! our permutations are the same as itertools. ')\n",
    "else:\n",
    "    print('ERROR: ')\n",
    "    for k,rw in enumerate(iter_permutation_words):\n",
    "        print('[{}]: {}'.format(k,rw))\n"
   ]
  },
  {
   "cell_type": "markdown",
   "metadata": {},
   "source": [
    "### Maximum sum, running window\n",
    "- Given an array of positive and/or negative integers. Get the max cumulative sum with any contiguous window (window of any size). Expected algo - O(n)\n",
    "- example:\n",
    "    > Max_sum([9 -7 8 -6 5 2] ) \n",
    "    \n",
    "    > Output: 11\n",
    "- And so clearly,\n",
    "    > Max_sum([-3 9 -7 8 -6 5 2 -8 -9 1])\n",
    "    \n",
    "    > Output: 11\n",
    "\n",
    "#### Solution(s):\n",
    "- First, write a brute-force method to validate our optimized model\n",
    "- Our basic strategy is to reject the ends of the array that contain negative numbers.\n",
    "- There are a couple of basic approaches; they reduce to what we code up below.\n"
   ]
  },
  {
   "cell_type": "code",
   "execution_count": 13,
   "metadata": {
    "collapsed": false
   },
   "outputs": [
    {
     "name": "stdout",
     "output_type": "stream",
     "text": [
      "[1, 7, 11] :: 11 (True)\n",
      "[0, 6, 11] :: 11 (True)\n",
      "[1, 4, 10] :: 10 (True)\n"
     ]
    }
   ],
   "source": [
    "### max window:\n",
    "# find the window that yields the max sum:\n",
    "A = [-3, 9, -7, 8, -6, 5, 2, -8, -9, 1]\n",
    "A1 = [9, -7, 8, -6, 5, 2]\n",
    "A2 = [-3, 9, -7, 8, -50, -6, 5, 2, -8, -9, 1]\n",
    "N = len(A)\n",
    "#\n",
    "# with the exception of the sum(X[j1:j2]) this is quasi-linear, and ver straight forward, so it makes\n",
    "#  nice test/validation script.\n",
    "#\n",
    "def max_sum_N2(X):\n",
    "    N = len(X)\n",
    "    my_sums = []\n",
    "    for j_start in range(N):\n",
    "        for j_stop in range(j_start+1, N+1):\n",
    "            my_sums += [[j_start, j_stop, sum(X[j_start:j_stop])]]\n",
    "            #\n",
    "        #\n",
    "    #\n",
    "    return max(my_sums, key=lambda rw: rw[-1])\n",
    "#\n",
    "for a in [A, A1, A2]:\n",
    "    my_answr = max_sum_N2(a)\n",
    "    print('{} :: {} ({})'.format(my_answr, sum(a[my_answr[0]:my_answr[1]]), my_answr[2] == sum(a[my_answr[0]:my_answr[1]])))\n",
    "# my_A = A1\n",
    "# my_answr = max_sum_N2(my_A)\n",
    "# print(my_answr)\n",
    "# print(sum(my_A[my_answr[0]:my_answr[1]]))\n",
    "# #"
   ]
  },
  {
   "cell_type": "code",
   "execution_count": 14,
   "metadata": {
    "collapsed": false
   },
   "outputs": [
    {
     "name": "stdout",
     "output_type": "stream",
     "text": [
      "A[0]: [-3, 9, -7, 8, -50, -6, 5, 2, -8, -9, 1]\n",
      "10\n",
      "(1, 4, 10)\n",
      "[1, 4, 10]\n",
      "A[1]: [-3, 9, -7, 8, -6, 5, 2, -8, -9, 1]\n",
      "11\n",
      "(1, 7, 11)\n",
      "[1, 7, 11]\n",
      "A[2]: [9, -7, 8, -6, 5, 2]\n",
      "11\n",
      "(0, 6, 11)\n",
      "[0, 6, 11]\n",
      "A[3]: [-2, -3, 9, -7, 8, -6, 5, 2, -8, -9, 1]\n",
      "11\n",
      "(2, 8, 11)\n",
      "[2, 8, 11]\n",
      "A[4]: [-2, -4, -3, 9, -7, 8, -6, 5, 2, -8, -9, 1]\n",
      "11\n",
      "(3, 9, 11)\n",
      "[3, 9, 11]\n",
      "Random X:  [-1, 0, -6, -3, -3, -8, 0, -4, -3, 8]\n",
      "8\n",
      "(9, 10, 8)\n",
      "[9, 10, 8]\n",
      "Random X:  [4, -4, -3, 7, -7, -6, 2, -8, 7, 0]\n",
      "7\n",
      "(3, 4, 7)\n",
      "[3, 4, 7]\n",
      "Random X:  [3, 0, 5, -9, 9, 9, 9, 4, -3, 2]\n",
      "31\n",
      "(4, 8, 31)\n",
      "[4, 8, 31]\n",
      "Random X:  [5, 5, 1, 4, 1, 9, 1, 9, 4, -5]\n",
      "39\n",
      "(0, 9, 39)\n",
      "[0, 9, 39]\n",
      "Random X:  [-8, 3, 8, 8, 2, -7, -6, 9, 8, 2]\n",
      "27\n",
      "(1, 10, 27)\n",
      "[1, 10, 27]\n",
      "Random X:  [-4, 1, -5, 6, 0, -1, 7, 9, 4, 0]\n",
      "25\n",
      "(3, 9, 25)\n",
      "[3, 9, 25]\n",
      "Random X:  [4, 6, 7, -9, 6, 1, 3, -1, 6, 0]\n",
      "23\n",
      "(0, 9, 23)\n",
      "[0, 9, 23]\n",
      "Random X:  [0, -4, -5, -4, 0, -7, 2, 3, 0, 6]\n",
      "11\n",
      "(6, 10, 11)\n",
      "[6, 10, 11]\n",
      "Random X:  [-4, 8, 2, 4, -3, -3, -4, 6, -5, 4]\n",
      "14\n",
      "(1, 4, 14)\n",
      "[1, 4, 14]\n",
      "Random X:  [-9, -2, 1, -8, 9, -7, -1, 0, -5, -8]\n",
      "9\n",
      "(4, 5, 9)\n",
      "[4, 5, 9]\n"
     ]
    }
   ],
   "source": [
    "#\n",
    "# if we want to extract the subsequence, we can use a bit of if-then logic:\n",
    "def find_max_sum_detailed(X):\n",
    "    #\n",
    "    j0 = 0\n",
    "    j0_best = j0\n",
    "    j1 = len(X)\n",
    "    #print(X)\n",
    "    #\n",
    "    best_sum = X[0]\n",
    "    this_sum = X[0]\n",
    "    #print('** ', this_sum, best_sum)\n",
    "    #\n",
    "    for j,x in enumerate(X[1:]):\n",
    "        #\n",
    "        this_sum+=x\n",
    "        if x>this_sum:\n",
    "            # leading terms subtract from our total; start over!\n",
    "            #\n",
    "            this_sum = x\n",
    "            j0=j+1\n",
    "        #\n",
    "        if this_sum>best_sum:\n",
    "            best_sum=this_sum\n",
    "            j0_best=j0\n",
    "            j1=j+2  # our count is one behind (X[1:]), and we want the next position...\n",
    "        #\n",
    "        # print('** ', this_sum, best_sum, x)\n",
    "    #\n",
    "    return j0_best,j1,best_sum\n",
    "#\n",
    "# if we are not interested in retrieving the sub-sequence itself, this is (probably) the fastest,\n",
    "# simplest approach: \n",
    "# walk the vector; if the preceding sum\n",
    "# is greater than the current value, start over (reject the current sum); then move forward and keep the\n",
    "# subseqeunt greatest sum.\n",
    "#\n",
    "def find_max_sum(X):\n",
    "    #\n",
    "    # initialize variables\n",
    "    best_sum = X[0]\n",
    "    this_sum = X[0]\n",
    "    #print('** ', this_sum, best_sum)\n",
    "    #\n",
    "    # now, walk from front to back. if the current_value < current_sum, then we reduce our\n",
    "    # total sum by including the sub-sequence up to this point, so dump it and start over.\n",
    "    # this is a little bit like some recursive-markov filters (Kalman Filters).\n",
    "    # then, given the right starting place (we've dumped preceding sub-sequences),\n",
    "    # keep the largest subsequent sum.\n",
    "    for j,x in enumerate(X[1:]):\n",
    "        #\n",
    "        # either add current value x to this_sum, or dump this_sum (and leading sub-sequence)\n",
    "        # and assign the new value.\n",
    "        this_sum = max(x, this_sum+x)\n",
    "        best_sum = max(best_sum,this_sum)\n",
    "        #\n",
    "        #print('** ', this_sum, best_sum, x)\n",
    "    return best_sum\n",
    "#\n",
    "for k,a in enumerate([A2, A,A1, [-2] + A, [-2,-4] + A]):\n",
    "    #\n",
    "    print('A[{}]: {}'.format(k,a))\n",
    "    \n",
    "    #\n",
    "    xx_1 = find_max_sum(a)\n",
    "    xx_2 = find_max_sum_detailed(a)\n",
    "    xx_3 = max_sum_N2(a)\n",
    "    print(xx_1)\n",
    "    print(xx_2)\n",
    "    print(xx_3)\n",
    "    #\n",
    "    #er = assert(xx_1 == xx_2[-1] == xx_3[-1])\n",
    "    if not (xx_1 == xx_2[-1] == xx_3[-1]): print(\"ERROR: one of the methods returns a bogus value.\")\n",
    "    \n",
    "#\n",
    "for k in range(10):\n",
    "    #X = numpy.random.uniform(-10,10, size=10)\n",
    "    X = [int(numpy.random.uniform(-10,10)) for _ in range(10)]\n",
    "    print('Random X: ', X)\n",
    "    #\n",
    "    xx_1 = find_max_sum(X)\n",
    "    xx_2 = find_max_sum_detailed(X)\n",
    "    xx_3 = max_sum_N2(X)\n",
    "    print(xx_1)\n",
    "    print(xx_2)\n",
    "    print(xx_3)\n",
    "    #\n",
    "    #er = assert(xx_1 == xx_2[-1] == xx_3[-1])\n",
    "    if not (xx_1 == xx_2[-1] == xx_3[-1]): print(\"ERROR: one of the methods returns a bogus value.\")\n",
    "        "
   ]
  },
  {
   "cell_type": "code",
   "execution_count": null,
   "metadata": {
    "collapsed": true
   },
   "outputs": [],
   "source": []
  }
 ],
 "metadata": {
  "kernelspec": {
   "display_name": "Python 3",
   "language": "python",
   "name": "python3"
  },
  "language_info": {
   "codemirror_mode": {
    "name": "ipython",
    "version": 3
   },
   "file_extension": ".py",
   "mimetype": "text/x-python",
   "name": "python",
   "nbconvert_exporter": "python",
   "pygments_lexer": "ipython3",
   "version": "3.5.4"
  }
 },
 "nbformat": 4,
 "nbformat_minor": 2
}
