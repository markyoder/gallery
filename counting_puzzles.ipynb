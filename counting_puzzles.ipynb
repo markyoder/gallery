{
 "cells": [
  {
   "cell_type": "markdown",
   "metadata": {},
   "source": [
    "##### A work in progress: This notebook is a work in progress, so there might be a few bugs here and there, and parts of it are not (yet) pretty, but i think some salient concepts are represented, and overall, it's getting there...\n",
    "\n",
    "### The \"Adds up to 100\" puzzle:\n",
    "- The question is more or les stated, \"Given some vector of \"numbers\" $X$ of positive numbers, which might be quite large, how many pairs of numbers add up to 100?\"\n",
    "- First, answer the question with a question: What kind of numbers? Integers? Over what range -- are all of the numbers $x_j < 100$?\n",
    "- Here, we will provide reasonably general solutions for both the continuum and integer cases.\n",
    "- Note that fundamentally, this is an $ON^2$ problem, but we want to reduce that as much as possible.e \n",
    "\n",
    "#### Summary findings:\n",
    "- We can use sorting based strategies to significantly reduce the order of the algorithm for continuum sequences, though the performance of such an algorithm might be difficult to anticipate\n",
    "- For integers, we can reduce the problem to approximately $ON$, or $c \\to ON$ in the limit of very large $N$. This reduction arises from the simple fact that, no matter how large $N$ is, there are only 101 distinct values of interest, all positive integers $x \\le 100$, including $0$. Therefore, we can index the set like, $I = \\{ x:n_x, ... \\}$ where $0 \\le x \\le 100$ are the values of $x$ and $n_x$ are the number of that value in the set.\n",
    "- We can now look for the number of pairs in this reduced set, and in fact, because the valuse are integer type, we can again use our index. For each value $x_j$, we can compute its compliment, $x^c_j = 100 - x_j$; we can then look up $x^c_j$ in our index, and the"
   ]
  },
  {
   "cell_type": "code",
   "execution_count": 1,
   "metadata": {
    "collapsed": false
   },
   "outputs": [],
   "source": [
    "%load_ext autoreload\n",
    "%autoreload 2\n",
    "%matplotlib inline\n",
    "\n"
   ]
  },
  {
   "cell_type": "code",
   "execution_count": 2,
   "metadata": {
    "collapsed": false
   },
   "outputs": [],
   "source": [
    "import matplotlib\n",
    "import pylab as plt\n",
    "import numpy\n",
    "import scipy\n",
    "import random\n"
   ]
  },
  {
   "cell_type": "markdown",
   "metadata": {},
   "source": [
    "### Make a sequence of numbers"
   ]
  },
  {
   "cell_type": "code",
   "execution_count": 3,
   "metadata": {
    "collapsed": false
   },
   "outputs": [],
   "source": [
    "N = 1000\n",
    "R = random.Random()\n",
    "\n",
    "x_min = 0.\n",
    "x_max = 100.\n",
    "\n",
    "# search range:\n",
    "x_lo = 50.\n",
    "x_hi = 60.\n",
    "\n",
    "X = [R.random()*(x_min + (x_max - x_min)) for _ in range(N)]\n"
   ]
  },
  {
   "cell_type": "markdown",
   "metadata": {},
   "source": [
    "### Continuum case:\n",
    "- First, we might assume based on how the question was phrased that we can ignore this case. Continuum values never really equal oneanother, so we'll modify the question to say something like, find the pairs of numbers whose sum is between $x_{min} < x_1 + x_2 < x_{max}$.\n",
    "- We don't have too much to work with; this problem is still fundamentally (as much as) $ON^2$, but:\n",
    "    - We can use sorting to reduce the scope a bit\n",
    "    - Obviuosly, we can exclude any numbers $x>x_{max}$\n",
    "    - ... etc.\n",
    "- So this gets us approximately $O(N \\cdot \\log(N) + \\alpha N^2)$, where $\\alpha$ is more or less (exactly?) the square of the fraction of values $x < x_{max}$.\n",
    "- So we observe significant reductions in the complexity, even for $x_{hi} \\approx x_{max}$. The next step might be to figure out a witty indexing or modulus-skipping system to optimize the search for small $x$.\n"
   ]
  },
  {
   "cell_type": "code",
   "execution_count": 4,
   "metadata": {
    "collapsed": false
   },
   "outputs": [
    {
     "name": "stdout",
     "output_type": "stream",
     "text": [
      "Number of distinct pairs: 56442\n",
      "nits: 189100/1000000 (0.189)\n"
     ]
    }
   ],
   "source": [
    "# now, find all pairs where x1 < (x_j + x_k) < x2\n",
    "#\n",
    "# make a sorted copy of X:\n",
    "X_prime = list(sorted(X))\n",
    "pairs = []\n",
    "nits = 0\n",
    "#\n",
    "# we should maybe (or maybe not) use itertools, but first, let's just block it out:\n",
    "for j, x1 in enumerate(X_prime):\n",
    "    # is this a valid value for x1? if we've already exceeded our maximum value, we can stop spinning...\n",
    "    if x1>x_hi: break\n",
    "    #\n",
    "    for k, x2 in enumerate(X_prime):\n",
    "        nits += 1\n",
    "        if x2 + x1 > x_hi:\n",
    "            break\n",
    "        x = x1 + x2\n",
    "        if x>=x_lo and x<=x_hi:\n",
    "            pairs += [[j,k, x1, x2, x]]\n",
    "        #\n",
    "#\n",
    "#       \n",
    "\n",
    "print(\"Number of distinct pairs: {}\".format(len(pairs)))\n",
    "print('nits: {}/{} ({:.3f})'.format(nits, N*N, nits/(N*N)))"
   ]
  },
  {
   "cell_type": "markdown",
   "metadata": {},
   "source": [
    "#### Variable Types: The Integer trick\n",
    "\n",
    "- So that's the sort of problem we would probably encounter in physical science -- continuum values.\n",
    "- But in CS, or just for the sake of puzzles, let's consider the case where $X$ is restricted to positive ingegers, this problem becomes approximately $ON$ for large $N$. The number of integers that add to 100 is small (it's 100).\n",
    "- We solve the problem in two steps. We index and filter the input:\n",
    "    - Exclude all values $x>100$; count and index the number of each value $x \\le 100$\n",
    "    - Now, for each entry $x_j$, compute the colplement $x_k = 100 - x_j$, and add the total count, $n = n_j \\cdot n_k$.\n",
    "    - Note that we return the pairs, $x_j + x_k = 100$, and their counts. These are $2 \\times$ degenerate, in that we get two redundant pairs, $(x_j, x_k) = (x_k, x_j)$, so if we want the total count, add these up and divide by two. \n",
    "    - ...or equivalently, add up half of them. So we only need to spin over $0 < x_1 < 50$.\n",
    "- Note also that, we interpret this challenge with the simplified rule that an element can be use multiple times, in multiple pairs. If we can only use an entry once, the number of single-use pairs is $n=min(n_j, n_k)$."
   ]
  },
  {
   "cell_type": "code",
   "execution_count": 5,
   "metadata": {
    "collapsed": false
   },
   "outputs": [
    {
     "name": "stdout",
     "output_type": "stream",
     "text": [
      "n[100] = 48, n[3]=56, n[5]=46\n",
      "total pairs: 126579.0\n",
      "pairs: \n",
      "[(0, 100), (41, 48), 1968]\n",
      "[(1, 99), (54, 59), 3186]\n",
      "[(2, 98), (50, 51), 2550]\n",
      "[(3, 97), (56, 49), 2744]\n",
      "[(4, 96), (52, 48), 2496]\n",
      "[(5, 95), (46, 63), 2898]\n",
      "[(6, 94), (46, 46), 2116]\n",
      "[(7, 93), (54, 46), 2484]\n",
      "[(8, 92), (43, 62), 2666]\n",
      "[(9, 91), (45, 40), 1800]\n",
      "[(10, 90), (47, 47), 2209]\n",
      "[(11, 89), (50, 54), 2700]\n",
      "[(12, 88), (50, 38), 1900]\n",
      "[(13, 87), (64, 53), 3392]\n",
      "[(14, 86), (49, 39), 1911]\n",
      "[(15, 85), (45, 62), 2790]\n",
      "[(16, 84), (57, 51), 2907]\n",
      "[(17, 83), (56, 53), 2968]\n",
      "[(18, 82), (59, 53), 3127]\n",
      "[(19, 81), (63, 51), 3213]\n",
      "[(20, 80), (65, 51), 3315]\n",
      "[(21, 79), (53, 51), 2703]\n",
      "[(22, 78), (35, 51), 1785]\n",
      "[(23, 77), (48, 40), 1920]\n",
      "[(24, 76), (48, 61), 2928]\n",
      "[(25, 75), (52, 66), 3432]\n",
      "[(26, 74), (45, 51), 2295]\n",
      "[(27, 73), (44, 46), 2024]\n",
      "[(28, 72), (52, 53), 2756]\n",
      "[(29, 71), (50, 53), 2650]\n",
      "[(30, 70), (48, 54), 2592]\n",
      "[(31, 69), (40, 41), 1640]\n",
      "[(32, 68), (57, 44), 2508]\n",
      "[(33, 67), (45, 49), 2205]\n",
      "[(34, 66), (41, 50), 2050]\n",
      "[(35, 65), (46, 47), 2162]\n",
      "[(36, 64), (44, 43), 1892]\n",
      "[(37, 63), (54, 40), 2160]\n",
      "[(38, 62), (58, 51), 2958]\n",
      "[(39, 61), (44, 58), 2552]\n",
      "[(40, 60), (40, 46), 1840]\n",
      "[(41, 59), (55, 54), 2970]\n",
      "[(42, 58), (54, 48), 2592]\n",
      "[(43, 57), (42, 58), 2436]\n",
      "[(44, 56), (61, 41), 2501]\n",
      "[(45, 55), (57, 46), 2622]\n",
      "[(46, 54), (60, 55), 3300]\n",
      "[(47, 53), (42, 48), 2016]\n",
      "[(48, 52), (52, 59), 3068]\n",
      "[(49, 51), (38, 35), 1330]\n",
      "[(50, 50), (52, 52), 1352.0]\n"
     ]
    }
   ],
   "source": [
    "N = 10000\n",
    "R = random.Random()\n",
    "#\n",
    "x_min = 0.\n",
    "x_max = 200.\n",
    "#\n",
    "X = [int(R.random()*(x_min + (x_max - x_min))) for _ in range(N)]\n",
    "#\n",
    "X_index = {x:0 for x in range(int(x_min), 101, 1) }\n",
    "for x in X:\n",
    "    if x>100: \n",
    "        continue\n",
    "    #\n",
    "    X_index[x] +=1\n",
    "#\n",
    "pairs = []\n",
    "#\n",
    "for x,n in X_index.items():\n",
    "    # we might sort, or we can just skip x>x_0 values...\n",
    "    if x>50: continue\n",
    "    #if x>100: continue\n",
    "    x_prime = int(100 - x)\n",
    "    n_prime = X_index[x_prime]\n",
    "    #\n",
    "    pairs += [[(x, x_prime), (n, n_prime), n*n_prime]]\n",
    "# ... but we will still count 50 twice.note that 50+50 should occur approximately half as often\n",
    "# as other combinations, since it is the same one value repeated, not two values.\n",
    "# generally, this might be considered an example of the kind of erro we might incur by trying to\n",
    "# over optimize -- introducing complexities to the code that lend themselves to mistakes, but don't\n",
    "# really add much benefit (how much do we really need the O(N/2) boost? at what cost in terms of possible\n",
    "# errors?)\n",
    "# now\n",
    "pairs[50][-1]/=2\n",
    "n_pairs = numpy.sum([rw[-1] for rw in pairs])\n",
    "#\n",
    "#\n",
    "# a quick idot-check:\n",
    "print('n[100] = {}, n[3]={}, n[5]={}'.format(X.count(100), X.count(3), X.count(5)))\n",
    "print('total pairs: {}'.format(n_pairs))\n",
    "#\n",
    "print('pairs: ')\n",
    "for p in pairs: print(p)\n"
   ]
  },
  {
   "cell_type": "code",
   "execution_count": 6,
   "metadata": {
    "collapsed": true
   },
   "outputs": [],
   "source": [
    "# now, code it up into a class with some generalizations:\n",
    "\n",
    "class Pair_Sum_Counter(list):\n",
    "    def __init__(self, X, x_target=100, enforce_integers=True):\n",
    "        # X: input vector. we are going to assume (and enforce) ingegers.\n",
    "        # first, verify that we have integers (though we permit skipping this step, for large\n",
    "        self.x_target = x_target\n",
    "        self.enforce_integers = enforce_integers\n",
    "        # data sets and confident operators):\n",
    "        if enforce_integers:\n",
    "            # check for integers, then cast? or just cast? since we don't know what we're going to get,\n",
    "            # we're guessing at which approach optimizes, so just keep it simple.\n",
    "            # we might also block out the loop so we can raise a warning for non-integer types,\n",
    "            # but that will compromize performance in Python.\n",
    "            X = [int(x) for x in X]\n",
    "        #\n",
    "        # now, index X:\n",
    "        # to index all of X (number of each value):\n",
    "        #self.update({x:0 for x in set(X)})\n",
    "        #\n",
    "        # but we really only want:\n",
    "        X_index = {k:0 for k in range(0, x_target+1, 1)}\n",
    "        #\n",
    "        # now count:\n",
    "        for x in X:\n",
    "            if x>x_target: \n",
    "                continue\n",
    "            #\n",
    "            X_index[x] +=1\n",
    "        #\n",
    "        pairs = self\n",
    "        #\n",
    "        # for simplicity, let's just count all the pairs, recognize that we are double-counting the\n",
    "        # (arguably) degerate cases (a,b) == (b,a). we can optimize by skipping the second half of the primary\n",
    "        # loop, but then we have to handle odd/even cases separately (aka, for 50 + 50 = 100), and the main\n",
    "        # objective of this algorithm is to reduce an ON^2 problem to ~O(x_target), so a factor of 2 here\n",
    "        # is usually a small problem.\n",
    "        for x,n in X_index.items():\n",
    "            # we might sort, or we can just skip x>x_0 values...\n",
    "            if x>x_target: continue\n",
    "            x_prime = int(x_target - x)\n",
    "            n_prime = X_index[x_prime]\n",
    "            #\n",
    "            pairs += [[(x, x_prime), (n, n_prime), n*n_prime]]\n",
    "        #\n",
    "        # this should always be even (sum([])/2 is integer)\n",
    "        self.n_pairs = numpy.sum([rw[-1] for rw in pairs])/2."
   ]
  },
  {
   "cell_type": "code",
   "execution_count": 11,
   "metadata": {
    "collapsed": false
   },
   "outputs": [
    {
     "name": "stdout",
     "output_type": "stream",
     "text": [
      "126579.0\n",
      "***\n",
      "[[(0, 100), (41, 48), 1968], [(1, 99), (54, 59), 3186], [(2, 98), (50, 51), 2550], [(3, 97), (56, 49), 2744], [(4, 96), (52, 48), 2496]]\n",
      "*****\n",
      "*****\n",
      "[[(0, 100), (41, 48), 1968], [(1, 99), (54, 59), 3186], [(2, 98), (50, 51), 2550], [(3, 97), (56, 49), 2744], [(4, 96), (52, 48), 2496]]\n",
      "[[(0, 42), (41, 54), 2214], [(1, 41), (54, 55), 2970], [(2, 40), (50, 40), 2000], [(3, 39), (56, 44), 2464], [(4, 38), (52, 58), 3016]]\n"
     ]
    }
   ],
   "source": [
    "# first, check vs. previous code:     \n",
    "PSC = Pair_Sum_Counter(X=X, x_target=100)\n",
    "print(PSC.n_pairs)\n",
    "\n",
    "print('***')\n",
    "print(pairs[0:5])\n",
    "print('*****\\n*****')\n",
    "print(PSC[0:5])\n",
    "#\n",
    "# what about some other x_target?\n",
    "PCS2 = Pair_Sum_Counter(X=X, x_target=42)\n",
    "print(PCS2[0:5])"
   ]
  },
  {
   "cell_type": "markdown",
   "metadata": {},
   "source": [
    "#### Check results with brute-force method:"
   ]
  },
  {
   "cell_type": "code",
   "execution_count": 14,
   "metadata": {
    "collapsed": false
   },
   "outputs": [
    {
     "name": "stdout",
     "output_type": "stream",
     "text": [
      "total: 126579.0 (126579.0), ON2:100000000/8.0\n"
     ]
    }
   ],
   "source": [
    "import itertools\n",
    "\n",
    "class Brute_Force_Pair_Counter(list):\n",
    "    # brute force pair-counter. assume integer inputs, or at least that we can use\n",
    "    # a == b equivalence. for float values, we really need to write an almost_equal(a,b)\n",
    "    # operator, but we'll save that for a real application...\n",
    "    #\n",
    "    # regarding list[] inheritance... or maybe dict. eventually populate the pairs... mabye use a nested\n",
    "    # dict{} structure, {x_j:{x_k:n, ...}, }\n",
    "    def __init__(self, X, target_value=100):\n",
    "        n_pairs = 0\n",
    "        for x1,x2 in itertools.product(X,X):\n",
    "            if x1 + x2 == 100: n_pairs += 1\n",
    "            #\n",
    "        #\n",
    "        self.n_total = n_pairs\n",
    "    #\n",
    "BF_pairs = Brute_Force_Pair_Counter(X,100)\n",
    "\n",
    "print('total: {} ({}), ON2:{}/{}'.format(BF_pairs.n_total/2, n_pairs, len(X)**2, 2*numpy.log10(len(X))))\n",
    "#print(n_pairs*2)\n"
   ]
  },
  {
   "cell_type": "markdown",
   "metadata": {},
   "source": [
    "### Diagnostics and Unit Testing\n",
    "- Test the integer counter class against the Brute_Force counter class for a few data sets, for a few x_target.\n",
    "- Evaluate time-to-completion (TTC), n_steps (how did we do with complexity?), and of course to be sure we get the same count(s)."
   ]
  },
  {
   "cell_type": "markdown",
   "metadata": {
    "collapsed": false
   },
   "source": [
    "### Comments: \n",
    "- Note that we can hybridize these techniques.\n",
    "- If we have inherently continuum value data, can we approximate (round or truncate) those values, so that we can index them?\n",
    "    - $x = 5.1$, $dx = .1$, $j=51$\n",
    "    - $j_k = int \\left( \\frac{x_k}{dx} \\right)$ \n",
    "- It gets a little bit trickeier when we then evaluate a range of equalities, using our indexed system, but it's not too bad; we simply replace our $x_c = 100 - x$ with a framework where we evaluate all $(x_{lo}-x) < x_c < (x_{hi}-x)$. How exactly we do this may depend on the properties of the data.\n"
   ]
  },
  {
   "cell_type": "code",
   "execution_count": null,
   "metadata": {
    "collapsed": true
   },
   "outputs": [],
   "source": []
  }
 ],
 "metadata": {
  "kernelspec": {
   "display_name": "Python 3",
   "language": "python",
   "name": "python3"
  },
  "language_info": {
   "codemirror_mode": {
    "name": "ipython",
    "version": 3
   },
   "file_extension": ".py",
   "mimetype": "text/x-python",
   "name": "python",
   "nbconvert_exporter": "python",
   "pygments_lexer": "ipython3",
   "version": "3.6.0"
  }
 },
 "nbformat": 4,
 "nbformat_minor": 2
}
