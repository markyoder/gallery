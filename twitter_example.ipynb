{
 "cells": [
  {
   "cell_type": "markdown",
   "metadata": {},
   "source": [
    "### A quick and dirty Twitter app\n",
    "- This is my first Twitter app, and I only looked this up a couple hours ago, so bare with me...\n",
    "- (I don't even Tweet)\n",
    "- install the Twitter pyAPI:\n",
    "    - pip install python-twitter\n",
    "- go to apps.twitter.com and \"create a new application\"\n",
    "    - from this, collect all the api_id data (authentication, etc.)\n",
    "\t    - How much of this are we really supposed to keep secret?\n",
    "- Then, we'll just demo some simple functionality\n",
    "    - Get a twitter-feed sample\n",
    "\t- Look for recurring words, maybe word-pairs, etc.\n",
    "\n",
    "#### Some things we find:\n",
    "- Unless you are highly multi-lingual, this might be a bit limited. we could maybe use some Google Translate\n",
    "- ... but be really careful with the word-pairs (sequential words), since word sequencing does not mean the same thing in all languages (aka, in latin and I think Germanic languages, order is important, but in Russian and other Slavic languages, not so much...\n",
    "- maybe use a dictionary of English words to filter out non-English data? maybe geo-locate?\n",
    "\n",
    "##### Security comment:\n",
    "- I do not quite understand how 'secret' the secret authentication keys for this app are supposed to be, so for the time being, i'm not going to provide the consumer_secret, etc. keys (i assume these are encryption key paris).\n",
    "- So, to actually run this code, you'll need to get your own keys and either code them directly into the notebook or code them into a .json file (format should be easy enough to infer from code).\n",
    "- See above commentary to get your own twitter applicaiton id keys.\n"
   ]
  },
  {
   "cell_type": "code",
   "execution_count": 7,
   "metadata": {
    "collapsed": false
   },
   "outputs": [
    {
     "name": "stdout",
     "output_type": "stream",
     "text": [
      "The autoreload extension is already loaded. To reload it, use:\n",
      "  %reload_ext autoreload\n"
     ]
    }
   ],
   "source": [
    "%load_ext autoreload\n",
    "%autoreload 2\n",
    "#%matplotlib notebook\n",
    "%matplotlib inline\n",
    "#\n",
    "import numpy\n",
    "import scipy\n",
    "import pylab as plt\n",
    "import sklearn\n",
    "import pandas\n",
    "import random\n",
    "\n",
    "import datetime as dtm\n",
    "import matplotlib.dates as mpd\n",
    "\n",
    "import os\n",
    "import sys\n",
    "#\n",
    "import twitter\n",
    "import json\n",
    "\n",
    "punctuations = ['.', ',', ':', '/', '(', ')', '-'] #... and others"
   ]
  },
  {
   "cell_type": "code",
   "execution_count": 8,
   "metadata": {
    "collapsed": false
   },
   "outputs": [
    {
     "data": {
      "application/javascript": [
       "\n",
       "    // apply setting to all current CodeMirror instances\n",
       "    IPython.notebook.get_cells().map(\n",
       "        function(c) {  return c.code_mirror.options.indentWithTabs=true;  }\n",
       "    );\n",
       "\n",
       "    // make sure new CodeMirror instances created in the future also use this setting\n",
       "    CodeMirror.defaults.indentWithTabs=true;"
      ],
      "text/plain": [
       "<IPython.core.display.Javascript object>"
      ]
     },
     "metadata": {},
     "output_type": "display_data"
    }
   ],
   "source": [
    "%%javascript\n",
    "\n",
    "    // apply setting to all current CodeMirror instances\n",
    "    IPython.notebook.get_cells().map(\n",
    "        function(c) {  return c.code_mirror.options.indentWithTabs=true;  }\n",
    "    );\n",
    "\n",
    "    // make sure new CodeMirror instances created in the future also use this setting\n",
    "    CodeMirror.defaults.indentWithTabs=true;"
   ]
  },
  {
   "cell_type": "code",
   "execution_count": 9,
   "metadata": {
    "collapsed": false,
    "scrolled": true
   },
   "outputs": [],
   "source": [
    "with open('twitter_secrets.json', 'r') as fin:\n",
    "\ttw_datas = json.load(fin)"
   ]
  },
  {
   "cell_type": "code",
   "execution_count": 10,
   "metadata": {
    "collapsed": false
   },
   "outputs": [],
   "source": [
    "my_app_data = tw_datas['yoda_dev'] \n",
    "mad = my_app_data\n",
    "api = twitter.Api(consumer_key=mad['api_key'], consumer_secret=mad['api_secret'], \n",
    "\t\t\t\t  access_token_key=mad['access_token'], \n",
    "\t\t\t\t  access_token_secret=mad['access_token_secret'])\n"
   ]
  },
  {
   "cell_type": "code",
   "execution_count": 11,
   "metadata": {
    "collapsed": false
   },
   "outputs": [
    {
     "data": {
      "text/plain": [
       "User(ID=48048726, ScreenName=markyoder)"
      ]
     },
     "execution_count": 11,
     "metadata": {},
     "output_type": "execute_result"
    }
   ],
   "source": [
    "api.GetUser(screen_name='markyoder')"
   ]
  },
  {
   "cell_type": "code",
   "execution_count": 16,
   "metadata": {
    "collapsed": false
   },
   "outputs": [
    {
     "name": "stdout",
     "output_type": "stream",
     "text": [
      "finished collecting tweets\n"
     ]
    }
   ],
   "source": [
    "tweets = []\n",
    "words = []\n",
    "# Note: this takes quite a while for N=10000; time to come up with a parallelization strategy?\n",
    "#\n",
    "n_tweets = 10000\n",
    "for j, twt in enumerate(api.GetStreamSample()):\n",
    "\t#\n",
    "\t#print('**DEBUG: [{}]'.format(j))\n",
    "\t#if j>100: break\n",
    "\tif len(tweets)>=n_tweets: break\n",
    "\t#\n",
    "\tif not 'text' in twt.keys():\n",
    "\t\t # other exception handling?\n",
    "\t\tcontinue\n",
    "\t#\n",
    "\ttweets += [twt]\n",
    "\ttxt = twt['text']\n",
    "\tfor p in punctuations:\n",
    "\t\ttxt = txt.replace(p,'')\n",
    "\twords += txt.split()\n",
    "\t#\n",
    "\t#print('tweet[{}]:: {}\\n'.format(j, json.dumps(twt)))\n",
    "\tif len(tweets)%(int(.1*n_tweets))==0: print('tweet[{}]'.format(len(tweets)))\n",
    "#\n",
    "print('finished collecting tweets')\n",
    "#"
   ]
  },
  {
   "cell_type": "markdown",
   "metadata": {},
   "source": [
    "#### (Unique) Word Count\n",
    "- How many words in this set of tweets?\n",
    "- How many unique words?\n",
    "- Most popular words? Distribution of word counts?"
   ]
  },
  {
   "cell_type": "code",
   "execution_count": 17,
   "metadata": {
    "collapsed": false
   },
   "outputs": [
    {
     "name": "stdout",
     "output_type": "stream",
     "text": [
      "counts: 47617(47617)/102255\n",
      "most popular words: \n",
      "[0]:: (4849) : RT\n",
      "[1]:: (967) : a\n",
      "[2]:: (825) : to\n",
      "[3]:: (750) : the\n",
      "[4]:: (549) : I\n",
      "[5]:: (544) : de\n",
      "[6]:: (479) : you\n",
      "[7]:: (457) : and\n",
      "[8]:: (397) : of\n",
      "[9]:: (396) : is\n",
      "[10]:: (375) : for\n"
     ]
    },
    {
     "data": {
      "image/png": "[encoded data removed]",
      "text/plain": [
       "<matplotlib.figure.Figure at 0x7f7584383438>"
      ]
     },
     "metadata": {},
     "output_type": "display_data"
    }
   ],
   "source": [
    "# this is still a little redundant and can be streamlined a bit, but it illustrates how to use\n",
    "# different data types to get unique data sets, etc.\n",
    "#\n",
    "class Word_analyzer(object):\n",
    "\tdef __init__(self, words):\n",
    "\t\ts_words = set(words)\n",
    "\t\tn_words = len(words)\n",
    "\t\tn_unique_words = len(s_words)\n",
    "\t\tunique_words = {wrd:words.count(wrd) for wrd in set(s_words)}\n",
    "\t\t#\n",
    "\t\t# this should be a faster way to compute the word-count:\n",
    "\t\tunique_words2 = {wrd:0 for wrd in s_words}\n",
    "\t\tfor wrd in words: unique_words2[wrd]+=1\n",
    "\t\t#\n",
    "\n",
    "\t\tprint('counts: {}({})/{}'.format(n_unique_words, len(unique_words2), n_words))\n",
    "\t\t#\n",
    "\t\tprint('most popular words: ')\n",
    "\t\tj=0\n",
    "\t\tfor (wrd,n) in sorted(unique_words.items(), key=lambda rw:rw[1])[::-1]:\n",
    "\t\t\tprint('[{}]:: ({}) : {}'.format(j, n, wrd))\n",
    "\t\t\tif j>=10: break\n",
    "\t\t\tj+=1\n",
    "\t\t#\n",
    "\t\tplt.figure()\n",
    "\t\tplt.clf()\n",
    "\t\tax=plt.gca()\n",
    "\t\twrds, x_axis = numpy.array(sorted(unique_words.items(), key=lambda rw:rw[1])[::-1]).T\n",
    "\t\tax.plot(x_axis, numpy.linspace(0,1,len(x_axis)), marker='.', ls='-')\n",
    "\t\tax.set_title('Probability a word occurs more than $x$ times')\n",
    "\t\tax.set_ylabel('Probability $P(>x)$')\n",
    "\t\tax.set_xlabel('Number of occurrences')\n",
    "\t\t#\n",
    "\t\tax.set_xscale('log')\n",
    "\t\tax.set_yscale('log')\n",
    "\t\t#\n",
    "\t\t# add all these variables to 'self':\n",
    "\t\tself.__dict__.update({key:val for key,val in locals().items() if not key in ('self', '__class__')})\n",
    "#\n",
    "singles = Word_analyzer(words)"
   ]
  },
  {
   "cell_type": "markdown",
   "metadata": {},
   "source": [
    "### Word Pairs\n",
    "- Nominally, we create word pairs by just concatenating our words array\n",
    "- ... except that this joins word pairs from subsequent tweets.  this might be an acceptable error...\n",
    "- ... but we should collect word-pairs at the individual tweet level, so we'll want to re-spin the tweets array.\n"
   ]
  },
  {
   "cell_type": "code",
   "execution_count": 18,
   "metadata": {
    "collapsed": false
   },
   "outputs": [],
   "source": [
    "word_pairs = []\n",
    "for twt in tweets:\n",
    "\ttxt = twt['text']\n",
    "\tfor p in punctuations:\n",
    "\t\ttxt = txt.replace(p,'')\n",
    "\t#\n",
    "\tword_pairs += ['{} {}'.format(w1, w2) for w1, w2 in zip(txt.split()[0:-1], txt.split()[1:])]\n",
    "#print('wp: ', word_pairs[50:55])"
   ]
  },
  {
   "cell_type": "code",
   "execution_count": 19,
   "metadata": {
    "collapsed": false
   },
   "outputs": [
    {
     "name": "stdout",
     "output_type": "stream",
     "text": [
      "counts: 73905(73905)/92255\n",
      "most popular words: \n",
      "[0]:: (77) : #MTVHottest Lady\n",
      "[1]:: (77) : Lady Gaga\n",
      "[2]:: (58) : سبحان الله\n",
      "[3]:: (56) : إله إلا\n",
      "[4]:: (55) : ㅤ ㅤ\n",
      "[5]:: (53) : لا إله\n",
      "[6]:: (52) : in the\n",
      "[7]:: (51) : of the\n",
      "[8]:: (50) : for the\n",
      "[9]:: (50) : to be\n",
      "[10]:: (48) : اللهم إني\n"
     ]
    },
    {
     "data": {
      "image/png": "[encoded data removed]",
      "text/plain": [
       "<matplotlib.figure.Figure at 0x7f758d60d748>"
      ]
     },
     "metadata": {},
     "output_type": "display_data"
    }
   ],
   "source": [
    "doubles = Word_analyzer(word_pairs)"
   ]
  },
  {
   "cell_type": "markdown",
   "metadata": {},
   "source": [
    "#### More on unique words...\n",
    "- Even for single word frequency, maybe it makes more sense to consider frequency per tweet...\n",
    "- ... but we'll need to think more carefully about what this means, and what we're looking for from it.\n",
    "- mean number of occurrences per tweet? we can just divide by the number of tweets, and this should be about right.\n",
    "- one thing we might do is to construct input vectors for some expected event or condition (aka, rate of tweets containing some set of words)"
   ]
  },
  {
   "cell_type": "code",
   "execution_count": null,
   "metadata": {
    "collapsed": true
   },
   "outputs": [],
   "source": []
  }
 ],
 "metadata": {
  "kernelspec": {
   "display_name": "Python 3",
   "language": "python",
   "name": "python3"
  },
  "language_info": {
   "codemirror_mode": {
    "name": "ipython",
    "version": 3
   },
   "file_extension": ".py",
   "mimetype": "text/x-python",
   "name": "python",
   "nbconvert_exporter": "python",
   "pygments_lexer": "ipython3",
   "version": "3.6.0"
  }
 },
 "nbformat": 4,
 "nbformat_minor": 2
}
